{
 "cells": [
  {
   "cell_type": "markdown",
   "metadata": {},
   "source": [
    "# Genetic algorithms\n",
    "\n",
    "This exercise aims at helping you understand the basic components that make up a genetic algorithm (GA). A general GA has 3 basic operations, that is: selection, crossover, mutation. In this exercise you will go through all of these operation and implement them. You will also encounter a very common issue in optimization which is selecting a proper fitness function that will smoothly guide your search algorithm to a solution.\n",
    "\n",
    "Before proceeding with the exercise take a look at the following [tutorial](https://towardsdatascience.com/evolution-of-a-salesman-a-complete-genetic-algorithm-tutorial-for-python-6fe5d2b3ca35) and the corresponding [code](https://github.com/ezstoltz/genetic-algorithm).\n",
    "\n",
    "We now want you to solve a similar problem for a mobile robot navigation scenario. Imagine that you have a 2D map of free blocks or obstacles. Your robot has a starting and a goal position and needs to learn the optimal route to get there. The problem is depicted in the image below: \n",
    "\n",
    "![title](map.png)\n",
    "\n",
    "For this task you can use a GA whose individuals would represent a series of movements in the map. Each gene is a simple movement primitive in on direction (i.e., North, West, South, East). You can draw inspiration from the tutorial you just read and even use whole blocks of code to solve the problem at hand.\n",
    "\n",
    "It is recommended that you follow the following instructions to solve the exercise, but if you feel that this is too constrained you may alter the structure completely.\n",
    "\n",
    "Steps for solving the exercise:\n",
    "\n",
    "    1. Familiarize yourself with GAs and study the use of the selection, crossover and mutation operations.\n",
    "    \n",
    "    2. Implement the MapNode class to hold information concerning a node of the grid. This would include coordinates and the obstacle flag.\n",
    "    \n",
    "    3. The code to recreate the map of the above image is already provided.\n",
    "    \n",
    "    4. Implement each missing component (selection, crossover, mutation) at a time by commenting the rest. The problem is simple enough for you to manually test if your implementation is correct.\n",
    "    \n",
    "    5. Once you feel confident that your basic GA structure is working you will need to construct a good fitness function. **No** there is no perfect fitness function for this problem. You will need to try and fail in order to find one that works. You will also need to implement an appropriate crossover or mutation to guide the search.\n",
    "    \n",
    "    6. Allow your GA to run for lots of generations (~ 2000). Although it might seem simple and low dimensional, evolving the optimal solution is not trivial.\n",
    "\n",
    "    7. Once you are confident that your GA is working, use the plot function that is already provided (and update its generation, population, etc parameters) to visualize the evolution of the fitness over generations. Remember that GAs work in a stochastic manner. This means that you should run your GA at least a few times (say 5) and keep the fitness vs generation plot before you can draw conclusions about the performance of the algorithm and the difficulty of the task you have.\n",
    "    \n",
    "    \n",
    "    \n",
    "**If you want to write your own GA or do not want to represent the map nodes the way it is proposed, you may re-write everything.**\n",
    "\n",
    "\n",
    "The optimal solution for this problem is depicted below and corresponds to the following series of movements: \n",
    "\n",
    "**EAST - SOUTH - SOUTH - EAST - EAST - EAST - EAST - NORTH - EAST (a total of 9 moves)**\n",
    "\n",
    "\n",
    "![title](map_solved.png)\n",
    "\n",
    "\n",
    "\n",
    "# Some python tips\n",
    "\n",
    "## Classes\n",
    "\n",
    "You may already be familiar with object-oriented programming. If not do not worry, the exercise is not about that. In python you define a class as follows:\n",
    "\n",
    "```python\n",
    "\n",
    "class Foo:\n",
    "    def __init__(self, someParam): \n",
    "        \"\"\"\n",
    "        This is the constructor of the class. Never forget the self parameter. \n",
    "        It could be loosely seen as the \"this\" of C++/Java\n",
    "        \"\"\"\n",
    "        self.someParam = someParam # you can store member variables using the self keyword\n",
    "        \n",
    "    def fooFun1(self):\n",
    "        pass\n",
    "      \n",
    "    def fooFun2(self, someOtherParam):\n",
    "        pass\n",
    "    \n",
    "    def getSomeParam(self):\n",
    "        return self.someParam # this is the member variable initialized in the constructor\n",
    "    \n",
    "# Using an instance of the class is similar to any other object-oriented language\n",
    "instance = Foo()\n",
    "instance.fooFun1()\n",
    "instance.fooFun2(2)\n",
    "\n",
    "# accessing member variables of an object\n",
    "print(instance.getSomeParam())\n",
    "\n",
    "```\n",
    "\n",
    "You can find a complete tutorial on classes in the following [link](https://docs.python.org/3/tutorial/classes.html).\n",
    "\n",
    "\n",
    "## Enums\n",
    "\n",
    "Enums are generic enumeration data structures that allow you to write more generalized code. In the following template we use Enums to encode the movement primitives. **Once again, if you are not comfortable with the use of Enums feel free to represent the movements in your own way**\n",
    "\n",
    "```python\n",
    "\n",
    "from enum import Enum\n",
    "\n",
    "class Ops(Enum):\n",
    "        NORTH = 1\n",
    "        EAST = 2\n",
    "        SOUTH = 3\n",
    "        WEST = 4\n",
    "\n",
    "movements = Ops()\n",
    "\n",
    "# you can also use the shorthand declartion        \n",
    "movements = Enum('Οps', 'NORTH EAST SOUTH WEST')  \n",
    "```\n",
    "\n",
    "\n",
    "You can find a more complete Enum tutorial for python [here](http://www.blog.pythonlibrary.org/2018/03/20/python-3-an-intro-to-enumerations/).\n"
   ]
  },
  {
   "cell_type": "code",
   "execution_count": 1,
   "metadata": {},
   "outputs": [],
   "source": [
    "import numpy as np, random, operator, pandas as pd, matplotlib.pyplot as plt\n",
    "from enum import Enum\n",
    "from pprint import pprint"
   ]
  },
  {
   "cell_type": "markdown",
   "metadata": {},
   "source": [
    "## The MapNode class"
   ]
  },
  {
   "cell_type": "markdown",
   "metadata": {},
   "source": [
    "Create class to handle \"MapNode\" to represent nodes in the map. Each of those nodes is defined by a set of coordinates and a flag that marks it as an obstacle or not.\n",
    "\n",
    "You may also define the \\__repr\\__ function to print the node in graphical way. \n",
    "\n",
    "**Note that instead of having a class to represent a node you may use a matrix (numpy array) to represent the whole map. This means you will need to alter the template below.**"
   ]
  },
  {
   "cell_type": "code",
   "execution_count": 2,
   "metadata": {},
   "outputs": [],
   "source": [
    "class MapNode:\n",
    "    def __init__(self, x, y, is_obstacle=False):\n",
    "        \"\"\"\n",
    "        :param x: int\n",
    "        :param y: int \n",
    "        :param is_obstacle: bool, optional     \n",
    "        \"\"\"\n",
    "        self.x = x\n",
    "        self.y = y\n",
    "        self.is_obstacle = is_obstacle\n",
    "\n",
    "        \n",
    "    def setObstacle(self, is_obstacle):\n",
    "        \"\"\"\n",
    "        :brief: Set the node to obstacle (True or False)\n",
    "\n",
    "        :param is_obstacle: bool\n",
    "        \"\"\"\n",
    "        self.is_obstacle = is_obstacle\n",
    "\n",
    "        \n",
    "    def isObstacle(self):\n",
    "        \"\"\"\n",
    "        :brief: Check if the node is an obstacle\n",
    "\n",
    "        :return: bool\n",
    "        \"\"\"\n",
    "        return self.is_obstacle\n",
    "\n",
    "    \n",
    "    def __repr__(self):\n",
    "        \"\"\"\n",
    "        :brief: This is called when the class is printed as is\n",
    "\n",
    "        :return: str\n",
    "        \"\"\"\n",
    "        if self.is_obstacle:\n",
    "            return \"x\"\n",
    "        else:\n",
    "            return \" \""
   ]
  },
  {
   "cell_type": "markdown",
   "metadata": {},
   "source": [
    "## Global definitions of variables (Those are used in many functions later)"
   ]
  },
  {
   "cell_type": "markdown",
   "metadata": {},
   "source": [
    "Setting the dimensions of the map that the robot will explore."
   ]
  },
  {
   "cell_type": "code",
   "execution_count": 3,
   "metadata": {
    "scrolled": true
   },
   "outputs": [],
   "source": [
    "dimX = 7 # dimension of the X axis\n",
    "dimY = 8 # dimension of the Y axis"
   ]
  },
  {
   "cell_type": "markdown",
   "metadata": {},
   "source": [
    "Set the possible robot movements and an upper threshold for the trajectory length."
   ]
  },
  {
   "cell_type": "code",
   "execution_count": 4,
   "metadata": {},
   "outputs": [],
   "source": [
    "movements = Enum('Οps', 'NORTH EAST SOUTH WEST')     # define the possible robot movements\n",
    "maxLen = 5 * dimX                                    # define a maximum trajectory length"
   ]
  },
  {
   "cell_type": "markdown",
   "metadata": {},
   "source": [
    "Create a map with obstacles that the robot will need to navigate. Here each coordinate of the grid map is represented by a MapNode instance stored in a list. \n",
    "\n",
    "**This is a design choice you are not obliged to make**. If you think of a better design do not hesitate to change the structure of the code to fit your own logic."
   ]
  },
  {
   "cell_type": "code",
   "execution_count": 5,
   "metadata": {},
   "outputs": [],
   "source": [
    "occupancyList = []\n",
    "\n",
    "# attribute coordinates to each of the map nodes\n",
    "for row in range(dimY):\n",
    "    for col in range(dimX):\n",
    "        occupancyList.append(MapNode(x=row, y=col, is_obstacle=True))"
   ]
  },
  {
   "cell_type": "markdown",
   "metadata": {},
   "source": [
    "In the previous step we set all the nodes to be obstacles. Below we will free up some of the nodes so that the robot can navigate from the starting positions to the final one."
   ]
  },
  {
   "cell_type": "code",
   "execution_count": 6,
   "metadata": {},
   "outputs": [],
   "source": [
    "# set some nodes to not be obstacles\n",
    "start = (1, 0)\n",
    "end = (2, 6)\n",
    "\n",
    "free = [start, end,\n",
    "        (1, 1), (2, 1), (3, 1), (3, 2),\n",
    "        (3, 3), (3, 4), (3, 5), (2, 5),\n",
    "        (4, 1), (4, 2), (4, 4), (4, 5),\n",
    "        (5, 1), (5, 2), (5, 3), (5, 4), (5, 5),\n",
    "        (6, 1), (6, 2), (6, 3), (6, 4), (6, 5),\n",
    "        (1, 5), (1, 4), (1, 3), (2, 3)]\n",
    "\n",
    "for node in free:\n",
    "    occupancyList[dimX * node[0] + node[1]].setObstacle(False)"
   ]
  },
  {
   "cell_type": "markdown",
   "metadata": {},
   "source": [
    "Assuming you have implemented the \\__repr\\__ function in MapNode the following code snippet will print out the map you defined."
   ]
  },
  {
   "cell_type": "code",
   "execution_count": 7,
   "metadata": {
    "scrolled": true
   },
   "outputs": [
    {
     "name": "stdout",
     "output_type": "stream",
     "text": [
      "xxxxxxx\n",
      "  x   x\n",
      "x x x  \n",
      "x     x\n",
      "x  x  x\n",
      "x     x\n",
      "x     x\n",
      "xxxxxxx\n"
     ]
    }
   ],
   "source": [
    "# printing out the initial map\n",
    "for row in range(dimY):\n",
    "    for col in range(dimX):\n",
    "        print(occupancyList[dimX * row + col], end='')\n",
    "    print('\\n', end='')"
   ]
  },
  {
   "cell_type": "markdown",
   "metadata": {},
   "source": [
    "## Create necessary classes and functions"
   ]
  },
  {
   "cell_type": "markdown",
   "metadata": {},
   "source": [
    "Create a fitness function that will consist of 3 elements given a generated trajectory: \n",
    "    1. the distance from the end goal when the trajectory has been traversed\n",
    "    2. the length of the trajectory (we want reward the shortest path)\n",
    "    3. the number of collisions with obstacles\n",
    "    \n",
    "The above elements should be minimized. **Be careful** that the algorithm in the tutorial is maximizing. You should either adjust your fitness function or the ranking logic.\n",
    "\n",
    "It is **required** that you experiment with different weights for these 3 elements until you get a good convergence to generation ratio."
   ]
  },
  {
   "cell_type": "code",
   "execution_count": 8,
   "metadata": {},
   "outputs": [],
   "source": [
    "class Fitness:\n",
    "    def __init__(self, route):\n",
    "        \"\"\"\n",
    "        :param route: list of Ops enums\n",
    "        \"\"\"\n",
    "        self.route = route\n",
    "        self.fitness = None\n",
    "\n",
    "    def routeCost(self):\n",
    "        \"\"\"\n",
    "        :brief: This function computes the fitness values that\n",
    "                should be attributed to a route. It needs to \n",
    "                take into account:\n",
    "                1) the collisions with obstacles,\n",
    "                2) the distance to the goal and \n",
    "                3) the length of the generated series of movements (trajectory)\n",
    "                \n",
    "        :return: float\n",
    "        \"\"\"\n",
    "        reached = start\n",
    "        for movement in self.route:\n",
    "            \"\"\"\n",
    "            The code below is similar (but definitely not the same) to \n",
    "            a switch - case in other languages. In practice we use \n",
    "            the dict structure to select the movement that should be performed.\n",
    "            \"\"\"\n",
    "            reached = {\n",
    "                movements.NORTH: (reached[0] - 1, reached[1]),\n",
    "                movements.EAST: (reached[0], reached[1] + 1),\n",
    "                movements.SOUTH: (reached[0] + 1, reached[1]),\n",
    "                movements.WEST: (reached[0], reached[1] - 1),\n",
    "            }[movement]\n",
    "\n",
    "            \"\"\"\n",
    "            If the robot moves outside the map or collides with an obstacle\n",
    "            we completely disregard the solution by setting a fitness of 0.\n",
    "            However, this might not help to achieve fast convergence depending\n",
    "            on your problem. An alternative would be to count the collisions\n",
    "            and include some kind of penalty in your linear combination of \n",
    "            objectives.\n",
    "            \"\"\"\n",
    "            if (reached[0] < 0 \n",
    "                or reached[1] < 0\n",
    "                or dimX * reached[0] + reached[1] >= len(occupancyList)\n",
    "                or occupancyList[dimX * reached[0] + reached[1]].isObstacle()):\n",
    "                return 0\n",
    "            \n",
    "        manhattan_distance = abs(reached[0] - end[0]) + abs(reached[1] - end[1])\n",
    "        route_length = len(self.route)\n",
    "        \n",
    "        \"\"\"\n",
    "        The weights are set manually and are not necessarily optimal. Here we \n",
    "        assumed that the most important objective is to reach the goal.\n",
    "        \"\"\"\n",
    "        return 1 / (0.10 * route_length\n",
    "                  + 0.90 * manhattan_distance)\n",
    "\n",
    "    def routeFitness(self):\n",
    "        \"\"\"\n",
    "        :brief: Fitness value getter\n",
    "\n",
    "        :return: float\n",
    "        \"\"\"\n",
    "        self.fitness = self.routeCost()\n",
    "        return self.fitness\n"
   ]
  },
  {
   "cell_type": "markdown",
   "metadata": {},
   "source": [
    "## Create our initial population"
   ]
  },
  {
   "cell_type": "markdown",
   "metadata": {},
   "source": [
    "Here you should implement a function to generate random trajectories that will be attributed a fitness value later on. These routes should have random length up to a maximum value. This will allow for more diverse candidate solutions and possibly alternate valid trajectories."
   ]
  },
  {
   "cell_type": "code",
   "execution_count": 9,
   "metadata": {},
   "outputs": [],
   "source": [
    "def createRoute(movements):\n",
    "    \"\"\"\n",
    "    :brief: Creates a randomly generated trajectory of variable length\n",
    "\n",
    "    :param movements: Ops enum (contains the series of available movements: NORTH - WEST - SOUTH - EAST) \n",
    "    :return: list of Ops enums\n",
    "    \"\"\"\n",
    "    route = []\n",
    "    for _ in range(random.randint(1, maxLen)):\n",
    "        route.append(random.choice(list(movements)))\n",
    "    return route"
   ]
  },
  {
   "cell_type": "markdown",
   "metadata": {},
   "source": [
    "Create first \"population\" (list of routes)."
   ]
  },
  {
   "cell_type": "code",
   "execution_count": 10,
   "metadata": {},
   "outputs": [],
   "source": [
    "def initialPopulation(popSize, movements):\n",
    "    \"\"\"\n",
    "    :brief: Initializes the population at the 0th generation of the GA\n",
    "\n",
    "    :param popSize: int (population size)\n",
    "    :param movements: Ops enum (contains the series of available movements: NORTH - WEST - SOUTH - EAST)\n",
    "    :return: list of lists of Ops enums\n",
    "    \"\"\"\n",
    "    population = []\n",
    "    for _ in range(0, popSize):\n",
    "        population.append(createRoute(movements))\n",
    "    return population"
   ]
  },
  {
   "cell_type": "markdown",
   "metadata": {},
   "source": [
    "## Create the genetic algorithm"
   ]
  },
  {
   "cell_type": "markdown",
   "metadata": {},
   "source": [
    "Rank the individuals in **descending** order of fitness values. Once again note that this genetic algorithm is set to maximize the fitness value.\n",
    "\n",
    "You can make the appropriate changes to minimize instead."
   ]
  },
  {
   "cell_type": "code",
   "execution_count": 11,
   "metadata": {},
   "outputs": [],
   "source": [
    "def rankRoutes(population):\n",
    "    \"\"\"\n",
    "    :brief: Ranks the individuals according to their fitness value\n",
    "\n",
    "    :param population: list of lists of Ops enums \n",
    "    :return: list of tuples of ints and floats (the ints stand for indices and floats are fitnesses)\n",
    "    \"\"\"\n",
    "    fitnessResults = {}\n",
    "    for i in range(0, len(population)):\n",
    "        fitnessResults[i] = Fitness(population[i]).routeFitness()\n",
    "    return sorted(fitnessResults.items(), key=operator.itemgetter(1), reverse=True)"
   ]
  },
  {
   "cell_type": "markdown",
   "metadata": {},
   "source": [
    "Create a selection function that will be used to make the list of parent routes. \n",
    "\n",
    "In the example that is linked on the pdf you saw how the roulette wheel selection works. You are now **asked** to implement a simpler selection method called [tournament selection](https://en.wikipedia.org/wiki/Tournament_selection)\n",
    "\n",
    "Take note that some \"elite\" solutions are always preserved. "
   ]
  },
  {
   "cell_type": "code",
   "execution_count": 12,
   "metadata": {},
   "outputs": [],
   "source": [
    "def selection(popRanked, eliteSize):\n",
    "    \"\"\"\n",
    "    :brief: Selects individuals that will proceed to the next operation/generation\n",
    "\n",
    "    :param popRanked: list of tuples of ints and floats (the ints stand for indices and floats are fitnesses)\n",
    "    :param eliteSize: int (the number of elite individuals that should be preserved)\n",
    "    :return: list of Ops enums\n",
    "    \"\"\"\n",
    "    selectionResults = []\n",
    "\n",
    "    for i in range(0, eliteSize):\n",
    "        selectionResults.append(popRanked[i][0])\n",
    "\n",
    "    \n",
    "    \"\"\"\n",
    "    Select the tournament size (this is something you should manually tune).\n",
    "    Here we selected 20% of the population (it's ok to select another value !).\n",
    "    \"\"\"\n",
    "    tournamentSize = int(0.2 * len(popRanked[eliteSize:]))\n",
    "    \n",
    "    \"\"\"\n",
    "    Below we construct the probability distribution for the tournament selection.\n",
    "    If you are not sure what this is referring to, please look in the tournament\n",
    "    selection wiki page linked above.\n",
    "    \"\"\"\n",
    "    p = 0.9\n",
    "    probDist = [p * (1 - p) ** i for i in range(tournamentSize)]\n",
    "        \n",
    "    \"\"\"\n",
    "    We keep drawing random individuals for the tournament until the population\n",
    "    has reached is predefined size.\n",
    "    \"\"\" \n",
    "    while len(selectionResults) != len(popRanked):    \n",
    "        tournamentMembers = random.choices(popRanked[eliteSize:], k=tournamentSize)\n",
    "        selected = random.choices(tournamentMembers, cum_weights=probDist)\n",
    "        selectionResults.append(selected[0][0])\n",
    "    \n",
    "    return selectionResults"
   ]
  },
  {
   "cell_type": "markdown",
   "metadata": {},
   "source": [
    "Create mating pool to start the crossover operation. "
   ]
  },
  {
   "cell_type": "code",
   "execution_count": 13,
   "metadata": {},
   "outputs": [],
   "source": [
    "def matingPool(population, selectionResults):\n",
    "    \"\"\"\n",
    "    :brief: Creates mates of individuals to breed (preparing for the crossover)\n",
    "\n",
    "    :param population: list of lists of Ops enums \n",
    "    :param selectionResults: list of tuples of ints and floats (the ints stand for indices and floats are fitnesses)\n",
    "    :return: list of tuples of ints and floats (the ints stand for indices and floats are fitnesses)\n",
    "    \"\"\"\n",
    "    matingpool = []\n",
    "    for i in range(0, len(selectionResults)):\n",
    "        index = selectionResults[i]\n",
    "        matingpool.append(population[index])\n",
    "    return matingpool"
   ]
  },
  {
   "cell_type": "markdown",
   "metadata": {},
   "source": [
    "Create a crossover function for two parents to create one child. Feel free to experiment with different kinds of crossover functions or use the one that is given below. \n",
    "\n",
    "**You are higly encouraged to implement a different crossover function than the one found in the pdf link to better understand the logic behind this operator**"
   ]
  },
  {
   "cell_type": "code",
   "execution_count": 14,
   "metadata": {},
   "outputs": [],
   "source": [
    "def breed(parent1, parent2):\n",
    "    \"\"\"\n",
    "    :brief: Performs the crossover between two individuals of the population\n",
    "\n",
    "    :param parent1: list of lists of Ops enums \n",
    "    :param parent2: list of lists of Ops enums \n",
    "\n",
    "    :return: list of lists of Ops enums\n",
    "    \"\"\"\n",
    "    child = []\n",
    "    childP1 = []\n",
    "    childP2 = []\n",
    "    \n",
    "    geneA = int(random.random() * len(parent1))\n",
    "    geneB = int(random.random() * len(parent1))\n",
    "    \n",
    "    startGene = min(geneA, geneB)\n",
    "    endGene = max(geneA, geneB)\n",
    "\n",
    "    for i in range(startGene, endGene):\n",
    "        childP1.append(parent1[i])\n",
    "        \n",
    "    childP2 = [item for item in parent2 if item not in childP1]\n",
    "\n",
    "    child = childP1 + childP2    \n",
    "    return child"
   ]
  },
  {
   "cell_type": "markdown",
   "metadata": {},
   "source": [
    "Create function to apply the crossover over full mating pool."
   ]
  },
  {
   "cell_type": "code",
   "execution_count": 15,
   "metadata": {},
   "outputs": [],
   "source": [
    "def breedPopulation(matingpool, eliteSize):\n",
    "    \"\"\"\n",
    "    :brief: Creates mates of individuals to breed (preparing for the crossover). Notice that we cross the best\n",
    "            individual with the worst the second best to the second worst and so on.\n",
    "\n",
    "    :param matingpool: list of tuples of ints and floats (the ints stand for indices and floats are fitnesses)\n",
    "    :param eliteSize: int (the number of elite individuals that should be preserved)\n",
    "    :return: list of lists of Ops enums (the crossed population)\n",
    "    \"\"\"\n",
    "    children = []\n",
    "    length = len(matingpool) - eliteSize\n",
    "    pool = random.sample(matingpool, len(matingpool))\n",
    "\n",
    "    for i in range(0,eliteSize):\n",
    "        children.append(matingpool[i])\n",
    "    \n",
    "    for i in range(0, length):\n",
    "        child = breed(pool[i], pool[len(matingpool)-i-1])\n",
    "        children.append(child)\n",
    "\n",
    "    return children"
   ]
  },
  {
   "cell_type": "markdown",
   "metadata": {},
   "source": [
    "Create function to mutate a single route. It is suggested that you use a different logic to mutate the individuals than the one found on the linked github page. \n",
    "\n",
    "**Hint:** Use a mutation function that might alter the length of the trajectory that is selected for mutation. This will give you a more diverse candidate solution population and might allow for faster convergence. You may also think about mutation functions that are constructive, i.e., they might mutate only the moves that correspond to collisions."
   ]
  },
  {
   "cell_type": "code",
   "execution_count": 16,
   "metadata": {},
   "outputs": [],
   "source": [
    "def mutate(individual, mutationRate):\n",
    "    \"\"\"\n",
    "    :brief: Generating a mutation for the selected individual if it is randomly selected\n",
    "\n",
    "    :param individual: list of Ops enums\n",
    "    :param mutationRate: float (probability that one individual will be selected for mutation)\n",
    "    :return: list of Ops enums (either the mutated individual or the original)\n",
    "    \"\"\"\n",
    "    for i in range(len(individual)):\n",
    "        if (random.random() < mutationRate):\n",
    "            \"\"\"\n",
    "            Below we opted to mutate randomly the parts of the trajectory that \n",
    "            correspond to a collision. This does NOT guarantee that the mutated\n",
    "            trajectory will not contain collisions, but guides the search into \n",
    "            faster convergence. \n",
    "            \n",
    "            If in doubt, you can randomly create mutations (regardless of collisions) \n",
    "            and compare the two approaches.\n",
    "            \"\"\"\n",
    "            reached = start\n",
    "            for i, movement in enumerate(individual):\n",
    "                reached = {\n",
    "                    movements.NORTH: (reached[0] - 1, reached[1]),\n",
    "                    movements.EAST: (reached[0], reached[1] + 1),\n",
    "                    movements.SOUTH: (reached[0] + 1, reached[1]),\n",
    "                    movements.WEST: (reached[0], reached[1] - 1),\n",
    "                }[movement]\n",
    "\n",
    "                if (reached[0] < 0 \n",
    "                    or reached[1] < 0\n",
    "                    or dimX * reached[0] + reached[1] >= len(occupancyList)\n",
    "                    or occupancyList[dimX * reached[0] + reached[1]].isObstacle()):\n",
    "                    individual[i] = random.choice(list(movements))\n",
    "        \n",
    "    return individual"
   ]
  },
  {
   "cell_type": "markdown",
   "metadata": {},
   "source": [
    "Create function to apply mutation over entire population.\n",
    "\n",
    "Contrary to the implementation that can be found on the linked github page, it is recommended that you **do not** use the elites of the population in the mutation operation. This will completely preserve them from generation to generation and will prevent oscilations in the best fitness per generation. Experiment with this choice to see if your algorithm works better. "
   ]
  },
  {
   "cell_type": "code",
   "execution_count": 17,
   "metadata": {},
   "outputs": [],
   "source": [
    "def mutatePopulation(population, mutationRate, eliteSize):\n",
    "    \"\"\"\n",
    "    :brief: Applies the mutations operation to the population and preserves the elites\n",
    "\n",
    "    :param population: list of lists of Ops enums (the population)\n",
    "    :param mutationRate: float (probability that one individual will be selected for mutation)\n",
    "    :param eliteSize: int (the number of elite individuals that should be preserved)\n",
    "    :return: list of lists of Ops enums (the mutated population)\n",
    "    \"\"\"\n",
    "    mutatedPop = []\n",
    "\n",
    "    for ind in range(0, eliteSize):\n",
    "        mutatedPop.append(population[ind])\n",
    "\n",
    "    for ind in range(eliteSize, len(population)):\n",
    "        mutatedInd = mutate(population[ind], mutationRate)\n",
    "        mutatedPop.append(mutatedInd)\n",
    "    return mutatedPop"
   ]
  },
  {
   "cell_type": "markdown",
   "metadata": {},
   "source": [
    "Put all steps together to create the next generation. Here you are listing the three basic steps of any genetic algorithm, namely: 1) selection, 2) crossover, and 3) mutation. "
   ]
  },
  {
   "cell_type": "code",
   "execution_count": 18,
   "metadata": {},
   "outputs": [],
   "source": [
    "def nextGeneration(currentGen, eliteSize, mutationRate):\n",
    "    \"\"\"\n",
    "    :brief: The GA generation step. It will serially perform selection, crossover and mutation \n",
    "\n",
    "    :param currentGen: list of lists of Ops enums (the population as defined in the previous generation)\n",
    "    :param eliteSize: int (the number of elite individuals that should be preserved)\n",
    "    :param mutationRate: float (probability that one individual will be selected for mutation)\n",
    "    :return: list of lists of Ops enums (the population after selecting, crossing and mutating)\n",
    "    \"\"\"\n",
    "    popRanked = rankRoutes(currentGen)\n",
    "    selectionResults = selection(popRanked, eliteSize)\n",
    "    matingpool = matingPool(currentGen, selectionResults)\n",
    "    children = breedPopulation(matingpool, eliteSize)\n",
    "    nextGeneration = mutatePopulation(children, mutationRate, eliteSize)\n",
    "    return nextGeneration"
   ]
  },
  {
   "cell_type": "markdown",
   "metadata": {},
   "source": [
    "## Running the genetic algorithm"
   ]
  },
  {
   "cell_type": "markdown",
   "metadata": {},
   "source": [
    "Run the genetic algorithm"
   ]
  },
  {
   "cell_type": "code",
   "execution_count": 19,
   "metadata": {},
   "outputs": [],
   "source": [
    "def geneticAlgorithm(population, popSize, eliteSize, mutationRate, generations):\n",
    "    \"\"\"\n",
    "    :brief: The GA main loop that will iterate until the selected number of generation has been reached\n",
    "\n",
    "    :param population: list Ops enums (the initial movement primitives that are available)\n",
    "    :param popSize: int (the number of individuals to evolve)\n",
    "    :param eliteSize: int (the number of elite individuals that should be preserved)\n",
    "    :param mutationRate: float (probability that one individual will be selected for mutation)\n",
    "    :param generations: int (the number of generations to run)\n",
    "    :return: tuple of list Ops enums and float  (the best series of moves and corresponding fitness found by the GA)\n",
    "    \"\"\"\n",
    "    pop = initialPopulation(popSize, population)\n",
    "    progress = []\n",
    "    progress.append(rankRoutes(pop)[0][1])\n",
    "\n",
    "    for i in range(0, generations):\n",
    "        pop = nextGeneration(pop, eliteSize, mutationRate)\n",
    "        progress.append(rankRoutes(pop)[0][1])\n",
    "\n",
    "    bestRouteIndex = rankRoutes(pop)[0][0]\n",
    "    bestRoute = pop[bestRouteIndex]\n",
    "        \n",
    "    plt.plot(progress)\n",
    "    plt.ylabel('Fitness')\n",
    "    plt.xlabel('Generation')\n",
    "    ax = plt.gca()\n",
    "    ax.set_ylim([0, 4])\n",
    "    \n",
    "    return (bestRoute, rankRoutes(pop)[0][1])"
   ]
  },
  {
   "cell_type": "markdown",
   "metadata": {},
   "source": [
    "Run the function with our assumptions to see how distance has improved in each generation"
   ]
  },
  {
   "cell_type": "code",
   "execution_count": 20,
   "metadata": {
    "scrolled": false
   },
   "outputs": [
    {
     "name": "stdout",
     "output_type": "stream",
     "text": [
      "Run 0 got us a fitness of 1.1111111111111112 for the route:\n",
      "[<Οps.EAST: 2>,\n",
      " <Οps.SOUTH: 3>,\n",
      " <Οps.SOUTH: 3>,\n",
      " <Οps.EAST: 2>,\n",
      " <Οps.EAST: 2>,\n",
      " <Οps.EAST: 2>,\n",
      " <Οps.EAST: 2>,\n",
      " <Οps.NORTH: 1>,\n",
      " <Οps.EAST: 2>]\n",
      "\n",
      "Run 1 got us a fitness of 1.1111111111111112 for the route:\n",
      "[<Οps.EAST: 2>,\n",
      " <Οps.SOUTH: 3>,\n",
      " <Οps.SOUTH: 3>,\n",
      " <Οps.EAST: 2>,\n",
      " <Οps.EAST: 2>,\n",
      " <Οps.EAST: 2>,\n",
      " <Οps.EAST: 2>,\n",
      " <Οps.NORTH: 1>,\n",
      " <Οps.EAST: 2>]\n",
      "\n",
      "Run 2 got us a fitness of 1.1111111111111112 for the route:\n",
      "[<Οps.EAST: 2>,\n",
      " <Οps.SOUTH: 3>,\n",
      " <Οps.SOUTH: 3>,\n",
      " <Οps.EAST: 2>,\n",
      " <Οps.EAST: 2>,\n",
      " <Οps.EAST: 2>,\n",
      " <Οps.EAST: 2>,\n",
      " <Οps.NORTH: 1>,\n",
      " <Οps.EAST: 2>]\n",
      "\n",
      "Run 3 got us a fitness of 1.1111111111111112 for the route:\n",
      "[<Οps.EAST: 2>,\n",
      " <Οps.SOUTH: 3>,\n",
      " <Οps.SOUTH: 3>,\n",
      " <Οps.EAST: 2>,\n",
      " <Οps.EAST: 2>,\n",
      " <Οps.EAST: 2>,\n",
      " <Οps.EAST: 2>,\n",
      " <Οps.NORTH: 1>,\n",
      " <Οps.EAST: 2>]\n",
      "\n",
      "Run 4 got us a fitness of 1.1111111111111112 for the route:\n",
      "[<Οps.EAST: 2>,\n",
      " <Οps.SOUTH: 3>,\n",
      " <Οps.SOUTH: 3>,\n",
      " <Οps.EAST: 2>,\n",
      " <Οps.EAST: 2>,\n",
      " <Οps.EAST: 2>,\n",
      " <Οps.EAST: 2>,\n",
      " <Οps.NORTH: 1>,\n",
      " <Οps.EAST: 2>]\n",
      "\n",
      "Average fitness: 1.1111111111111112\n"
     ]
    },
    {
     "data": {
      "image/png": "[encoded data removed]",
      "text/plain": [
       "<Figure size 432x288 with 1 Axes>"
      ]
     },
     "metadata": {
      "needs_background": "light"
     },
     "output_type": "display_data"
    }
   ],
   "source": [
    "fitness_hist = []\n",
    "for i in range(5):\n",
    "    bestRoute, fitness = geneticAlgorithm(\n",
    "                    population=movements, \n",
    "                    popSize=50,\n",
    "                    eliteSize=4, \n",
    "                    mutationRate=0.25, \n",
    "                    generations=2000)\n",
    "    fitness_hist.append(fitness)\n",
    "    print('Run ' + str(i) + ' got us a fitness of ' + str(fitness_hist[-1]) + ' for the route:')\n",
    "    pprint(bestRoute)\n",
    "    print('')\n",
    "    \n",
    "print('Average fitness: ' + str(np.mean(fitness_hist)))"
   ]
  },
  {
   "cell_type": "markdown",
   "metadata": {},
   "source": [
    "## But are GAs more than just random search?\n",
    "\n",
    "We run the genetic algorithm with a mutation rate of 100%. In principle this is very close to performing a random search for the optimal solution. How does this compare to the GA above? Which method converges faster?\n",
    "\n",
    "**Beware** this might take some time to execute to the constant random generation of solutions"
   ]
  },
  {
   "cell_type": "code",
   "execution_count": 21,
   "metadata": {
    "scrolled": true
   },
   "outputs": [
    {
     "name": "stdout",
     "output_type": "stream",
     "text": [
      "Run 0 got us a fitness of 0.15384615384615385 for the route:\n",
      "[<Οps.EAST: 2>, <Οps.WEST: 4>]\n",
      "\n",
      "Run 1 got us a fitness of 0.17543859649122806 for the route:\n",
      "[<Οps.EAST: 2>, <Οps.WEST: 4>, <Οps.EAST: 2>]\n",
      "\n",
      "Run 2 got us a fitness of 0 for the route:\n",
      "[<Οps.SOUTH: 3>,\n",
      " <Οps.WEST: 4>,\n",
      " <Οps.EAST: 2>,\n",
      " <Οps.SOUTH: 3>,\n",
      " <Οps.EAST: 2>,\n",
      " <Οps.NORTH: 1>,\n",
      " <Οps.SOUTH: 3>,\n",
      " <Οps.SOUTH: 3>,\n",
      " <Οps.SOUTH: 3>,\n",
      " <Οps.SOUTH: 3>,\n",
      " <Οps.WEST: 4>,\n",
      " <Οps.WEST: 4>,\n",
      " <Οps.NORTH: 1>,\n",
      " <Οps.WEST: 4>,\n",
      " <Οps.WEST: 4>,\n",
      " <Οps.WEST: 4>,\n",
      " <Οps.EAST: 2>,\n",
      " <Οps.NORTH: 1>,\n",
      " <Οps.EAST: 2>,\n",
      " <Οps.NORTH: 1>,\n",
      " <Οps.WEST: 4>,\n",
      " <Οps.EAST: 2>,\n",
      " <Οps.NORTH: 1>,\n",
      " <Οps.NORTH: 1>,\n",
      " <Οps.WEST: 4>,\n",
      " <Οps.NORTH: 1>,\n",
      " <Οps.WEST: 4>,\n",
      " <Οps.EAST: 2>,\n",
      " <Οps.SOUTH: 3>,\n",
      " <Οps.WEST: 4>,\n",
      " <Οps.SOUTH: 3>,\n",
      " <Οps.SOUTH: 3>,\n",
      " <Οps.NORTH: 1>,\n",
      " <Οps.EAST: 2>,\n",
      " <Οps.WEST: 4>]\n",
      "\n",
      "Run 3 got us a fitness of 0 for the route:\n",
      "[<Οps.SOUTH: 3>,\n",
      " <Οps.EAST: 2>,\n",
      " <Οps.SOUTH: 3>,\n",
      " <Οps.NORTH: 1>,\n",
      " <Οps.NORTH: 1>,\n",
      " <Οps.WEST: 4>,\n",
      " <Οps.EAST: 2>,\n",
      " <Οps.EAST: 2>,\n",
      " <Οps.EAST: 2>,\n",
      " <Οps.WEST: 4>,\n",
      " <Οps.NORTH: 1>,\n",
      " <Οps.WEST: 4>,\n",
      " <Οps.SOUTH: 3>,\n",
      " <Οps.SOUTH: 3>,\n",
      " <Οps.EAST: 2>,\n",
      " <Οps.SOUTH: 3>,\n",
      " <Οps.WEST: 4>,\n",
      " <Οps.WEST: 4>,\n",
      " <Οps.NORTH: 1>,\n",
      " <Οps.WEST: 4>,\n",
      " <Οps.EAST: 2>,\n",
      " <Οps.WEST: 4>,\n",
      " <Οps.WEST: 4>,\n",
      " <Οps.EAST: 2>,\n",
      " <Οps.WEST: 4>,\n",
      " <Οps.NORTH: 1>,\n",
      " <Οps.SOUTH: 3>,\n",
      " <Οps.SOUTH: 3>,\n",
      " <Οps.WEST: 4>,\n",
      " <Οps.WEST: 4>]\n",
      "\n",
      "Run 4 got us a fitness of 0.2127659574468085 for the route:\n",
      "[<Οps.EAST: 2>, <Οps.SOUTH: 3>]\n",
      "\n",
      "Average fitness: 0.10841014155683808\n"
     ]
    },
    {
     "data": {
      "image/png": "[encoded data removed]",
      "text/plain": [
       "<Figure size 432x288 with 1 Axes>"
      ]
     },
     "metadata": {
      "needs_background": "light"
     },
     "output_type": "display_data"
    }
   ],
   "source": [
    "def mutate(individual, mutationRate):\n",
    "    \"\"\"\n",
    "    :brief: Generating a completely new and random solutions \n",
    "\n",
    "    :param individual: list of Ops enums\n",
    "    :param mutationRate: float (probability that one individual will be selected for mutation)\n",
    "    :return: list of Ops enums (either the mutated individual or the original)\n",
    "    \"\"\"\n",
    "    for i in range(len(individual)):\n",
    "        if (random.random() < mutationRate):\n",
    "            individual = createRoute(movements)      \n",
    "    return individual\n",
    "\n",
    "\n",
    "def nextGeneration(currentGen, eliteSize, mutationRate):\n",
    "    \"\"\"\n",
    "    :brief: The GA generation step. It will serially perform selection, crossover and mutation \n",
    "\n",
    "    :param currentGen: list of lists of Ops enums (the population as defined in the previous generation)\n",
    "    :param eliteSize: int (the number of elite individuals that should be preserved)\n",
    "    :param mutationRate: float (probability that one individual will be selected for mutation)\n",
    "    :return: list of lists of Ops enums (the population after selecting, crossing and mutating)\n",
    "    \"\"\"\n",
    "    nextGeneration = mutatePopulation(currentGen, mutationRate, eliteSize)\n",
    "    return nextGeneration\n",
    "\n",
    "\n",
    "def geneticAlgorithm(population, popSize, eliteSize, mutationRate, generations):\n",
    "    \"\"\"\n",
    "    :brief: The GA main loop that will iterate until the selected number of generation has been reached\n",
    "\n",
    "    :param population: list Ops enums (the initial movement primitives that are available)\n",
    "    :param popSize: int (the number of individuals to evolve)\n",
    "    :param eliteSize: int (the number of elite individuals that should be preserved)\n",
    "    :param mutationRate: float (probability that one individual will be selected for mutation)\n",
    "    :param generations: int (the number of generations to run)\n",
    "    :return: tuple of list Ops enums and float  (the best series of moves and corresponding fitness found by the GA)\n",
    "    \"\"\"\n",
    "    pop = initialPopulation(popSize, population)\n",
    "    progress = []\n",
    "    progress.append(rankRoutes(pop)[0][1])\n",
    "\n",
    "    for i in range(0, generations):\n",
    "        pop = nextGeneration(pop, eliteSize, mutationRate)\n",
    "        progress.append(rankRoutes(pop)[0][1])\n",
    "\n",
    "    bestRouteIndex = rankRoutes(pop)[0][0]\n",
    "    bestRoute = pop[bestRouteIndex]\n",
    "        \n",
    "    plt.plot(progress)\n",
    "    plt.ylabel('Fitness')\n",
    "    plt.xlabel('Generation')\n",
    "    ax = plt.gca()\n",
    "    ax.set_ylim([0, 4])\n",
    "    \n",
    "    return (bestRoute, rankRoutes(pop)[0][1])\n",
    "\n",
    "fitness_hist = []\n",
    "for i in range(5):\n",
    "    bestRoute, fitness = geneticAlgorithm(\n",
    "                    population=movements, \n",
    "                    popSize=50,\n",
    "                    eliteSize=1, \n",
    "                    mutationRate=1.0, # we choose to mutate every individual of the population (except the elite)\n",
    "                    generations=2000)\n",
    "    fitness_hist.append(fitness)\n",
    "    print('Run ' + str(i) + ' got us a fitness of ' + str(fitness_hist[-1]) + ' for the route:')\n",
    "    pprint(bestRoute)\n",
    "    print('')\n",
    "    \n",
    "print('Average fitness: ' + str(np.mean(fitness_hist)))"
   ]
  }
 ],
 "metadata": {
  "kernelspec": {
   "display_name": "Python 3",
   "language": "python",
   "name": "python3"
  },
  "language_info": {
   "codemirror_mode": {
    "name": "ipython",
    "version": 3
   },
   "file_extension": ".py",
   "mimetype": "text/x-python",
   "name": "python",
   "nbconvert_exporter": "python",
   "pygments_lexer": "ipython3",
   "version": "3.7.4"
  }
 },
 "nbformat": 4,
 "nbformat_minor": 2
}
